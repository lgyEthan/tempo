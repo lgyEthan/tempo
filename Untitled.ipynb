{
 "cells": [
  {
   "cell_type": "code",
   "execution_count": 28,
   "metadata": {},
   "outputs": [],
   "source": [
    "from ase.build import fcc111\n",
    "from ase.constraints import FixAtoms, FixedPlane\n",
    "from ase.visualize import view\n",
    "from ase.io import write\n",
    "from ase.io.vasp import write_vasp\n",
    "from ase import Atoms, Atom\n",
    "import numpy as np\n",
    "import os, shutil\n",
    "\n",
    "slab = fcc111('Cu',a=3.633287, size=(1, 1, 9))\n",
    "slab.center(axis=2, vacuum=12.0)\n",
    "\n",
    "cell_slab = slab.get_cell()\n",
    "\n",
    "write_vasp('clean', slab, label='pristine surface', direct=True, sort=False, symbol_count = False, long_format=False,vasp5=True,ignore_constraints=False)\n",
    "\n",
    "for i in np.arange(0.970, 1.030, 0.005):\n",
    "        for j in np.arange(0.970, 1.030, 0.005):\n",
    "            x1 = i*cell_slab[0,0]\n",
    "            x2 = i*cell_slab[0,1]\n",
    "\n",
    "            y1 = j*cell_slab[1,0]\n",
    "            y2 = j*cell_slab[1,1]\n",
    "\n",
    "            position = slab.get_scaled_positions()\n",
    "            slab.set_cell([(x1,x2,0),(y1,y2,0),(0,0,cell_slab[2,2])])\n",
    "\n",
    "            x = format(i,'.3f')\n",
    "            y = format(j,'.3f')\n",
    "            mask = [atom.tag > 3 and atom.tag < 7 for atom in slab]\n",
    "            slab.set_constraint(FixAtoms(mask=mask))\n",
    "\n",
    "            slab.set_scaled_positions(position)\n",
    "            \n",
    "            path = str(str(x)+'_'+str(y)+'.vasp')\n",
    "            write_vasp(path, slab, label='strained surface', direct=True, sort= False, symbol_count = False, long_format=False,vasp5=True,ignore_constraints=False)"
   ]
  },
  {
   "cell_type": "code",
   "execution_count": 30,
   "metadata": {},
   "outputs": [
    {
     "data": {
      "text/plain": [
       "[False, False, False, True, True, True, False, False, False]"
      ]
     },
     "execution_count": 30,
     "metadata": {},
     "output_type": "execute_result"
    }
   ],
   "source": [
    "mask"
   ]
  },
  {
   "cell_type": "code",
   "execution_count": 31,
   "metadata": {},
   "outputs": [],
   "source": [
    "mask = [atom.tag > 3 and atom.tag < 7 for atom in slab]"
   ]
  },
  {
   "cell_type": "code",
   "execution_count": 33,
   "metadata": {},
   "outputs": [
    {
     "name": "stdout",
     "output_type": "stream",
     "text": [
      "9\n",
      "8\n",
      "7\n",
      "6\n",
      "5\n",
      "4\n",
      "3\n",
      "2\n",
      "1\n"
     ]
    }
   ],
   "source": [
    "for atom in slab:\n",
    "    print(atom.tag)"
   ]
  },
  {
   "cell_type": "code",
   "execution_count": 44,
   "metadata": {},
   "outputs": [],
   "source": [
    "from math import pi, cos, sin, sqrt, acos"
   ]
  },
  {
   "cell_type": "code",
   "execution_count": 35,
   "metadata": {},
   "outputs": [
    {
     "data": {
      "text/plain": [
       "1.0"
      ]
     },
     "execution_count": 35,
     "metadata": {},
     "output_type": "execute_result"
    }
   ],
   "source": [
    "sqrt(1)"
   ]
  },
  {
   "cell_type": "code",
   "execution_count": 36,
   "metadata": {},
   "outputs": [
    {
     "data": {
      "text/plain": [
       "-0.4480736161291701"
      ]
     },
     "execution_count": 36,
     "metadata": {},
     "output_type": "execute_result"
    }
   ],
   "source": [
    "cos(90)"
   ]
  },
  {
   "cell_type": "code",
   "execution_count": 41,
   "metadata": {},
   "outputs": [
    {
     "data": {
      "text/plain": [
       "0.7071067811865476"
      ]
     },
     "execution_count": 41,
     "metadata": {},
     "output_type": "execute_result"
    }
   ],
   "source": [
    "cos(45*pi/180)"
   ]
  },
  {
   "cell_type": "code",
   "execution_count": 48,
   "metadata": {},
   "outputs": [
    {
     "data": {
      "text/plain": [
       "2.356194490192345"
      ]
     },
     "execution_count": 48,
     "metadata": {},
     "output_type": "execute_result"
    }
   ],
   "source": [
    "acos(-1/sqrt(2))"
   ]
  },
  {
   "cell_type": "code",
   "execution_count": 49,
   "metadata": {},
   "outputs": [
    {
     "data": {
      "text/plain": [
       "2.356194490192345"
      ]
     },
     "execution_count": 49,
     "metadata": {},
     "output_type": "execute_result"
    }
   ],
   "source": [
    "135*pi/180"
   ]
  },
  {
   "cell_type": "code",
   "execution_count": null,
   "metadata": {},
   "outputs": [],
   "source": []
  },
  {
   "cell_type": "code",
   "execution_count": 55,
   "metadata": {},
   "outputs": [],
   "source": [
    "angle_ab=acos((cell_slab[0,0]*cell_slab[1,0]+cell_slab[0,1]*cell_slab[1,1])/(sqrt(cell_slab[0,0]**2+cell_slab[0,1]**2)*sqrt(cell_slab[1,0]**2+cell_slab[1,1]**2)))\n",
    "\n",
    "\n"
   ]
  },
  {
   "cell_type": "code",
   "execution_count": 57,
   "metadata": {},
   "outputs": [
    {
     "data": {
      "text/plain": [
       "59.99999999999999"
      ]
     },
     "execution_count": 57,
     "metadata": {},
     "output_type": "execute_result"
    }
   ],
   "source": [
    "angle_ab*180/pi"
   ]
  },
  {
   "cell_type": "code",
   "execution_count": 68,
   "metadata": {},
   "outputs": [],
   "source": [
    "asdf=np.arange(-0.08+1, 0.08+1, 0.02)"
   ]
  },
  {
   "cell_type": "code",
   "execution_count": 83,
   "metadata": {},
   "outputs": [],
   "source": [
    "theta=[0,30,5]\n",
    "epsilon=[-0.08,0.08,0.02]\n",
    "\n",
    "if epsilon[0]<0:\n",
    "      epsilon[0]+=1\n",
    "      epsilon[1]+=1\n",
    "\n",
    "for q in np.arange(theta[0], theta[1], theta[2]):\n",
    "      for e in np.arange(epsilon[0], epsilon[1], epsilon[2]):\n",
    "            if e==1:\n",
    "                  pass\n",
    "            else:\n",
    "                  # when we regard z=0 in both a, b vectors. We can easily get angle of instersection, angle_ab(rad)\n",
    "                  angle_ab=acos((cell_slab[0,0]*cell_slab[1,0]+cell_slab[0,1]*cell_slab[1,1])/(sqrt(cell_slab[0,0]**2+cell_slab[0,1]**2)*sqrt(cell_slab[1,0]**2+cell_slab[1,1]**2)))\n",
    "                  x1 = e*cos(q*pi/180)*cell_slab[0,0]\n",
    "                  x2 = e*cos(q*pi/180)*cell_slab[0,1]\n",
    "                  y1 = e*cos(angle_ab-q*pi/180)*cell_slab[1,0]\n",
    "                  y2 = e*cos(angle_ab-q*pi/180)*cell_slab[1,1]\n",
    "\n",
    "                  position = slab.get_scaled_positions()\n",
    "                  slab.set_cell([(x1,x2,0),(y1,y2,0),(0,0,cell_slab[2,2])])\n",
    "\n",
    "                  x = format(q,'.3f')\n",
    "                  y = format(e,'.3f')\n",
    "                  mask = [atom.tag > 3 and atom.tag < 7 for atom in slab]\n",
    "                  slab.set_constraint(FixAtoms(mask=mask))\n",
    "\n",
    "                  slab.set_scaled_positions(position)\n",
    "                  \n",
    "                  path = str(str(x)+'_'+str(y)+'.vasp')\n",
    "                  write_vasp(path, slab, label='strained surface', direct=True, sort= False, symbol_count = False, long_format=False,vasp5=True,ignore_constraints=False)\n"
   ]
  },
  {
   "cell_type": "code",
   "execution_count": 95,
   "metadata": {},
   "outputs": [
    {
     "data": {
      "text/plain": [
       "array([-8.00000000e-02, -6.00000000e-02, -4.00000000e-02, -2.00000000e-02,\n",
       "        1.38777878e-17,  2.00000000e-02,  4.00000000e-02,  6.00000000e-02,\n",
       "        8.00000000e-02])"
      ]
     },
     "execution_count": 95,
     "metadata": {},
     "output_type": "execute_result"
    }
   ],
   "source": [
    "epsilon=[-0.08,0.08,0.02]\n",
    "P2=np.arange(epsilon[0], epsilon[1], epsilon[2])\n",
    "np.append(P2,epsilon[1])"
   ]
  },
  {
   "cell_type": "code",
   "execution_count": 106,
   "metadata": {},
   "outputs": [],
   "source": [
    "theta=[0,35,5]\n",
    "epsilon=[-0.08,0.08,0.02]"
   ]
  },
  {
   "cell_type": "code",
   "execution_count": 112,
   "metadata": {},
   "outputs": [],
   "source": [
    "R1=np.arange(theta[0], theta[1], theta[2])\n",
    "R1=np.append(R1,theta[1])\n",
    "R2=np.arange(epsilon[0], epsilon[1], epsilon[2])\n",
    "R2=np.append(R2,epsilon[1])"
   ]
  },
  {
   "cell_type": "code",
   "execution_count": 115,
   "metadata": {},
   "outputs": [
    {
     "data": {
      "text/plain": [
       "array([ 0,  5, 10, 15, 20, 25, 30, 35])"
      ]
     },
     "execution_count": 115,
     "metadata": {},
     "output_type": "execute_result"
    }
   ],
   "source": [
    "R1"
   ]
  },
  {
   "cell_type": "code",
   "execution_count": 116,
   "metadata": {},
   "outputs": [
    {
     "data": {
      "text/plain": [
       "array([-8.00000000e-02, -6.00000000e-02, -4.00000000e-02, -2.00000000e-02,\n",
       "        1.38777878e-17,  2.00000000e-02,  4.00000000e-02,  6.00000000e-02,\n",
       "        8.00000000e-02])"
      ]
     },
     "execution_count": 116,
     "metadata": {},
     "output_type": "execute_result"
    }
   ],
   "source": [
    "R2"
   ]
  },
  {
   "cell_type": "code",
   "execution_count": null,
   "metadata": {},
   "outputs": [],
   "source": []
  }
 ],
 "metadata": {
  "kernelspec": {
   "display_name": "Python 3",
   "language": "python",
   "name": "python3"
  },
  "language_info": {
   "codemirror_mode": {
    "name": "ipython",
    "version": 3
   },
   "file_extension": ".py",
   "mimetype": "text/x-python",
   "name": "python",
   "nbconvert_exporter": "python",
   "pygments_lexer": "ipython3",
   "version": "3.7.4"
  }
 },
 "nbformat": 4,
 "nbformat_minor": 2
}
